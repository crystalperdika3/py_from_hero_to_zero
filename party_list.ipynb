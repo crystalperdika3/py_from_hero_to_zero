{
 "cells": [
  {
   "cell_type": "code",
   "execution_count": 1,
   "id": "64a8a8fb",
   "metadata": {},
   "outputs": [
    {
     "name": "stdout",
     "output_type": "stream",
     "text": [
      "Γεια σου! Γραψε εναν εναν τους καλεσμενους του παρτυ σου στην παρακατω λίστα!\n",
      "να πληκτρολογησεις party_list() και μεσα στα αποσιωποιητικα ' ' να γραψεις το ονομα του φιλου σου που θα ερθει!\n"
     ]
    }
   ],
   "source": [
    "print(\"Γεια σου! Γραψε εναν εναν τους καλεσμενους του παρτυ σου στην παρακατω λίστα!\")\n",
    "print(\"να πληκτρολογησεις party_list(\"\") και μεσα στα αποσιωποιητικα ' ' να γραψεις το ονομα του φιλου σου που θα ερθει!\")\n",
    "list_names=[]\n",
    "def party_list(name):\n",
    "    list_names.append(name)\n",
    "    print (*list_names, sep = \", \") \n",
    "    "
   ]
  },
  {
   "cell_type": "code",
   "execution_count": 2,
   "id": "38114c4e",
   "metadata": {},
   "outputs": [
    {
     "name": "stdout",
     "output_type": "stream",
     "text": [
      "Vlasis\n"
     ]
    }
   ],
   "source": [
    "party_list(\"Vlasis\")"
   ]
  },
  {
   "cell_type": "code",
   "execution_count": 3,
   "id": "f2bc391b",
   "metadata": {},
   "outputs": [
    {
     "name": "stdout",
     "output_type": "stream",
     "text": [
      "Vlasis, George\n"
     ]
    }
   ],
   "source": [
    "party_list(\"George\")"
   ]
  },
  {
   "cell_type": "code",
   "execution_count": 4,
   "id": "a0653008",
   "metadata": {},
   "outputs": [
    {
     "name": "stdout",
     "output_type": "stream",
     "text": [
      "Vlasis, George, Hector\n"
     ]
    }
   ],
   "source": [
    "party_list(\"Hector\")"
   ]
  },
  {
   "cell_type": "code",
   "execution_count": 6,
   "id": "0d39ec3f",
   "metadata": {},
   "outputs": [
    {
     "data": {
      "text/plain": [
       "['Vlasis', 'George', 'Hector']"
      ]
     },
     "execution_count": 6,
     "metadata": {},
     "output_type": "execute_result"
    }
   ],
   "source": [
    "list_names"
   ]
  },
  {
   "cell_type": "code",
   "execution_count": 7,
   "id": "71ac6b26",
   "metadata": {},
   "outputs": [
    {
     "name": "stdout",
     "output_type": "stream",
     "text": [
      "Vlasis\n",
      "George\n",
      "Hector\n"
     ]
    }
   ],
   "source": [
    "party=list_names\n",
    "for i in range(len(party)):\n",
    "    print(party[i])\n",
    "    \n",
    "    \n",
    "    "
   ]
  },
  {
   "cell_type": "code",
   "execution_count": null,
   "id": "02f8cc73",
   "metadata": {},
   "outputs": [],
   "source": []
  },
  {
   "cell_type": "code",
   "execution_count": null,
   "id": "c8937c27",
   "metadata": {},
   "outputs": [],
   "source": []
  },
  {
   "cell_type": "markdown",
   "id": "9d1389e7",
   "metadata": {},
   "source": []
  },
  {
   "cell_type": "code",
   "execution_count": null,
   "id": "ebbbff01",
   "metadata": {},
   "outputs": [],
   "source": []
  },
  {
   "cell_type": "code",
   "execution_count": null,
   "id": "683483d8",
   "metadata": {},
   "outputs": [],
   "source": []
  }
 ],
 "metadata": {
  "kernelspec": {
   "display_name": "Python 3 (ipykernel)",
   "language": "python",
   "name": "python3"
  },
  "language_info": {
   "codemirror_mode": {
    "name": "ipython",
    "version": 3
   },
   "file_extension": ".py",
   "mimetype": "text/x-python",
   "name": "python",
   "nbconvert_exporter": "python",
   "pygments_lexer": "ipython3",
   "version": "3.9.13"
  }
 },
 "nbformat": 4,
 "nbformat_minor": 5
}
